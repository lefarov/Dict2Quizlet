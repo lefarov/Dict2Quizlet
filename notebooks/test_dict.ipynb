{
 "cells": [
  {
   "cell_type": "code",
   "execution_count": 3,
   "metadata": {},
   "outputs": [],
   "source": [
    "import six\n",
    "import json\n",
    "import requests\n",
    "from lxml import etree\n",
    "from io import StringIO\n",
    "import argparse\n",
    "from tabulate import tabulate"
   ]
  },
  {
   "cell_type": "code",
   "execution_count": 4,
   "metadata": {},
   "outputs": [],
   "source": [
    "section_names = (\n",
    "    'subst',\n",
    "    'verb',\n",
    "    'adjadv',\n",
    "    'preaep',\n",
    "    'definition',\n",
    "    'phrase',\n",
    "    'example',\n",
    ")\n"
   ]
  },
  {
   "cell_type": "code",
   "execution_count": 5,
   "metadata": {},
   "outputs": [],
   "source": [
    "def _get_text(elt):\n",
    "    buf = StringIO()\n",
    "\n",
    "    def _helper(_elt):\n",
    "        if _elt.text is not None:\n",
    "            buf.write(six.text_type(_elt.text))\n",
    "        for child in _elt:\n",
    "            _helper(child)\n",
    "        if _elt.tail is not None:\n",
    "            buf.write(six.text_type(_elt.tail))\n",
    "\n",
    "    _helper(elt)\n",
    "    return buf.getvalue()\n"
   ]
  },
  {
   "cell_type": "code",
   "execution_count": 28,
   "metadata": {},
   "outputs": [],
   "source": [
    "resp = requests.get(\"https://dict.leo.org/ende/\", params={\"search\": \"Welt\"})"
   ]
  },
  {
   "cell_type": "code",
   "execution_count": 29,
   "metadata": {},
   "outputs": [],
   "source": [
    "p = etree.HTMLParser()\n",
    "html = etree.parse(StringIO(resp.text), p)"
   ]
  },
  {
   "cell_type": "code",
   "execution_count": 30,
   "metadata": {},
   "outputs": [],
   "source": [
    "section = html.find(\".//div[@data-dz-name='subst']\")"
   ]
  },
  {
   "cell_type": "code",
   "execution_count": 31,
   "metadata": {},
   "outputs": [],
   "source": [
    "results = section.findall(\".//td[@lang='en']\")"
   ]
  },
  {
   "cell_type": "code",
   "execution_count": 32,
   "metadata": {},
   "outputs": [
    {
     "data": {
      "text/plain": [
       "'None'"
      ]
     },
     "execution_count": 32,
     "metadata": {},
     "output_type": "execute_result"
    }
   ],
   "source": [
    "six.text_type(results[4].text)"
   ]
  },
  {
   "cell_type": "code",
   "execution_count": 25,
   "metadata": {},
   "outputs": [
    {
     "data": {
      "text/plain": [
       "False"
      ]
     },
     "execution_count": 25,
     "metadata": {},
     "output_type": "execute_result"
    }
   ],
   "source": [
    "section is None"
   ]
  },
  {
   "cell_type": "code",
   "execution_count": null,
   "metadata": {},
   "outputs": [],
   "source": []
  }
 ],
 "metadata": {
  "kernelspec": {
   "display_name": "Python 3",
   "language": "python",
   "name": "python3"
  },
  "language_info": {
   "codemirror_mode": {
    "name": "ipython",
    "version": 3
   },
   "file_extension": ".py",
   "mimetype": "text/x-python",
   "name": "python",
   "nbconvert_exporter": "python",
   "pygments_lexer": "ipython3",
   "version": "3.7.7"
  }
 },
 "nbformat": 4,
 "nbformat_minor": 2
}
